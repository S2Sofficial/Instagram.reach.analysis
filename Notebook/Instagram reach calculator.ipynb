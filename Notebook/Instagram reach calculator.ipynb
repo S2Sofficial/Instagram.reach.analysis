{
 "cells": [
  {
   "cell_type": "code",
   "execution_count": null,
   "id": "8e866ca7",
   "metadata": {},
   "outputs": [],
   "source": [
    "print(python.version)"
   ]
  },
  {
   "cell_type": "code",
   "execution_count": null,
   "id": "5b19cb17",
   "metadata": {},
   "outputs": [],
   "source": []
  }
 ],
 "metadata": {
  "kernelspec": {
   "display_name": "Python 3 (ipykernel)",
   "language": "python",
   "name": "python3"
  }
 },
 "nbformat": 4,
 "nbformat_minor": 5
}
